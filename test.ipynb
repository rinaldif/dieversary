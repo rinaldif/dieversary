{
 "cells": [
  {
   "cell_type": "code",
   "execution_count": 1,
   "metadata": {},
   "outputs": [],
   "source": [
    "import matplotlib.pyplot as plt\n",
    "from matplotlib import colors\n",
    "import numpy as np\n",
    "import math"
   ]
  },
  {
   "cell_type": "code",
   "execution_count": 59,
   "metadata": {},
   "outputs": [],
   "source": [
    "def round_down(x):\n",
    "    return math.floor(x / 10.0) * 10"
   ]
  },
  {
   "cell_type": "code",
   "execution_count": 90,
   "metadata": {},
   "outputs": [],
   "source": [
    "def matrix_gen(n, nrows=10): \n",
    "    # update the script so that you can select the nr. of rows \n",
    "    #  (eg: from the current 10 to, forn instance 5)\n",
    "    tens = round_down(n)\n",
    "    extra = n - tens\n",
    "    print(n, tens, extra)\n",
    "\n",
    "    tens_ones = np.ones((10, int(tens/10)))\n",
    "    \n",
    "    if extra > 0: \n",
    "        remainder_zeros = np.zeros((10, int(10-1-tens/10)))\n",
    "        extra_ones = np.vstack((np.ones((extra,1)), np.zeros((10-extra,1))))\n",
    "        return np.hstack((tens_ones, extra_ones, remainder_zeros))\n",
    "    else: \n",
    "        return tens_ones\n",
    "\n",
    "    \n"
   ]
  },
  {
   "cell_type": "code",
   "execution_count": 92,
   "metadata": {},
   "outputs": [
    {
     "name": "stdout",
     "output_type": "stream",
     "text": [
      "35 30 5\n"
     ]
    },
    {
     "data": {
      "image/png": "[encoded data removed]",
      "text/plain": [
       "<Figure size 640x480 with 1 Axes>"
      ]
     },
     "metadata": {},
     "output_type": "display_data"
    }
   ],
   "source": [
    "data = matrix_gen(35)\n",
    "\n",
    "# create discrete colormap\n",
    "cmap = colors.ListedColormap(['lightgrey', 'darkgrey'])\n",
    "bounds = [0,1]\n",
    "norm = colors.BoundaryNorm(bounds, cmap.N)\n",
    "\n",
    "fig, ax = plt.subplots()\n",
    "ax.imshow(data, cmap=cmap, norm=norm)\n",
    "\n",
    "# draw gridlines\n",
    "ax.grid(which='major', axis='both', linestyle='-', color='w', linewidth=2)\n",
    "ax.set_xticks(np.arange(-.5, 10, 1));\n",
    "ax.set_yticks(np.arange(-.5, 10, 1));\n",
    "\n",
    "plt.show()"
   ]
  },
  {
   "cell_type": "code",
   "execution_count": null,
   "metadata": {},
   "outputs": [],
   "source": []
  }
 ],
 "metadata": {
  "kernelspec": {
   "display_name": ".venv",
   "language": "python",
   "name": "python3"
  },
  "language_info": {
   "codemirror_mode": {
    "name": "ipython",
    "version": 3
   },
   "file_extension": ".py",
   "mimetype": "text/x-python",
   "name": "python",
   "nbconvert_exporter": "python",
   "pygments_lexer": "ipython3",
   "version": "3.12.2"
  }
 },
 "nbformat": 4,
 "nbformat_minor": 2
}
